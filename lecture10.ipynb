{
 "cells": [
  {
   "cell_type": "markdown",
   "metadata": {
    "papermill": {
     "duration": 0.0138,
     "end_time": "2021-01-11T10:41:58.920488",
     "exception": false,
     "start_time": "2021-01-11T10:41:58.906688",
     "status": "completed"
    },
    "tags": []
   },
   "source": [
    "1. load data\n",
    "2. preprocessing\n",
    "3. build models\n",
    "4. test and improve"
   ]
  },
  {
   "cell_type": "code",
   "execution_count": 1,
   "metadata": {
    "_execution_state": "idle",
    "_uuid": "051d70d956493feee0c6d64651c6a088724dca2a",
    "execution": {
     "iopub.execute_input": "2021-01-11T10:41:58.975529Z",
     "iopub.status.busy": "2021-01-11T10:41:58.972982Z",
     "iopub.status.idle": "2021-01-11T10:42:01.500233Z",
     "shell.execute_reply": "2021-01-11T10:42:01.500741Z"
    },
    "papermill": {
     "duration": 2.567947,
     "end_time": "2021-01-11T10:42:01.501265",
     "exception": false,
     "start_time": "2021-01-11T10:41:58.933318",
     "status": "completed"
    },
    "tags": []
   },
   "outputs": [
    {
     "name": "stderr",
     "output_type": "stream",
     "text": [
      "── \u001b[1mAttaching packages\u001b[22m ─────────────────────────────────────── tidyverse 1.3.0 ──\n",
      "\n",
      "\u001b[32m✔\u001b[39m \u001b[34mggplot2\u001b[39m 3.3.2     \u001b[32m✔\u001b[39m \u001b[34mpurrr  \u001b[39m 0.3.4\n",
      "\u001b[32m✔\u001b[39m \u001b[34mtibble \u001b[39m 3.0.4     \u001b[32m✔\u001b[39m \u001b[34mdplyr  \u001b[39m 1.0.2\n",
      "\u001b[32m✔\u001b[39m \u001b[34mtidyr  \u001b[39m 1.1.2     \u001b[32m✔\u001b[39m \u001b[34mstringr\u001b[39m 1.4.0\n",
      "\u001b[32m✔\u001b[39m \u001b[34mreadr  \u001b[39m 1.4.0     \u001b[32m✔\u001b[39m \u001b[34mforcats\u001b[39m 0.5.0\n",
      "\n",
      "── \u001b[1mConflicts\u001b[22m ────────────────────────────────────────── tidyverse_conflicts() ──\n",
      "\u001b[31m✖\u001b[39m \u001b[34mdplyr\u001b[39m::\u001b[32mfilter()\u001b[39m masks \u001b[34mstats\u001b[39m::filter()\n",
      "\u001b[31m✖\u001b[39m \u001b[34mdplyr\u001b[39m::\u001b[32mlag()\u001b[39m    masks \u001b[34mstats\u001b[39m::lag()\n",
      "\n",
      "randomForest 4.6-14\n",
      "\n",
      "Type rfNews() to see new features/changes/bug fixes.\n",
      "\n",
      "\n",
      "Attaching package: ‘randomForest’\n",
      "\n",
      "\n",
      "The following object is masked from ‘package:dplyr’:\n",
      "\n",
      "    combine\n",
      "\n",
      "\n",
      "The following object is masked from ‘package:ggplot2’:\n",
      "\n",
      "    margin\n",
      "\n",
      "\n"
     ]
    }
   ],
   "source": [
    "# libraries\n",
    "library(tidyverse) # metapackage of all tidyverse packages\n",
    "library(keras)\n",
    "library(randomForest)"
   ]
  },
  {
   "cell_type": "code",
   "execution_count": 2,
   "metadata": {
    "execution": {
     "iopub.execute_input": "2021-01-11T10:42:01.576131Z",
     "iopub.status.busy": "2021-01-11T10:42:01.537343Z",
     "iopub.status.idle": "2021-01-11T10:42:07.136407Z",
     "shell.execute_reply": "2021-01-11T10:42:07.133072Z"
    },
    "papermill": {
     "duration": 5.617518,
     "end_time": "2021-01-11T10:42:07.136627",
     "exception": false,
     "start_time": "2021-01-11T10:42:01.519109",
     "status": "completed"
    },
    "tags": []
   },
   "outputs": [
    {
     "name": "stderr",
     "output_type": "stream",
     "text": [
      "\n",
      "\u001b[36m──\u001b[39m \u001b[1m\u001b[1mColumn specification\u001b[1m\u001b[22m \u001b[36m────────────────────────────────────────────────────────\u001b[39m\n",
      "cols(\n",
      "  .default = col_character(),\n",
      "  SalesID = \u001b[32mcol_double()\u001b[39m,\n",
      "  SalePrice = \u001b[32mcol_double()\u001b[39m,\n",
      "  MachineID = \u001b[32mcol_double()\u001b[39m,\n",
      "  ModelID = \u001b[32mcol_double()\u001b[39m,\n",
      "  datasource = \u001b[32mcol_double()\u001b[39m,\n",
      "  auctioneerID = \u001b[32mcol_double()\u001b[39m,\n",
      "  YearMade = \u001b[32mcol_double()\u001b[39m,\n",
      "  MachineHoursCurrentMeter = \u001b[32mcol_double()\u001b[39m\n",
      ")\n",
      "\u001b[36mℹ\u001b[39m Use \u001b[38;5;235m\u001b[48;5;253m\u001b[38;5;235m\u001b[48;5;253m`spec()`\u001b[48;5;253m\u001b[38;5;235m\u001b[49m\u001b[39m for the full column specifications.\n",
      "\n",
      "\n"
     ]
    },
    {
     "data": {
      "text/html": [
       "<table class=\"dataframe\">\n",
       "<caption>A tibble: 6 × 53</caption>\n",
       "<thead>\n",
       "\t<tr><th scope=col>SalesID</th><th scope=col>SalePrice</th><th scope=col>MachineID</th><th scope=col>ModelID</th><th scope=col>datasource</th><th scope=col>auctioneerID</th><th scope=col>YearMade</th><th scope=col>MachineHoursCurrentMeter</th><th scope=col>UsageBand</th><th scope=col>saledate</th><th scope=col>⋯</th><th scope=col>Undercarriage_Pad_Width</th><th scope=col>Stick_Length</th><th scope=col>Thumb</th><th scope=col>Pattern_Changer</th><th scope=col>Grouser_Type</th><th scope=col>Backhoe_Mounting</th><th scope=col>Blade_Type</th><th scope=col>Travel_Controls</th><th scope=col>Differential_Type</th><th scope=col>Steering_Controls</th></tr>\n",
       "\t<tr><th scope=col>&lt;dbl&gt;</th><th scope=col>&lt;dbl&gt;</th><th scope=col>&lt;dbl&gt;</th><th scope=col>&lt;dbl&gt;</th><th scope=col>&lt;dbl&gt;</th><th scope=col>&lt;dbl&gt;</th><th scope=col>&lt;dbl&gt;</th><th scope=col>&lt;dbl&gt;</th><th scope=col>&lt;chr&gt;</th><th scope=col>&lt;chr&gt;</th><th scope=col>⋯</th><th scope=col>&lt;chr&gt;</th><th scope=col>&lt;chr&gt;</th><th scope=col>&lt;chr&gt;</th><th scope=col>&lt;chr&gt;</th><th scope=col>&lt;chr&gt;</th><th scope=col>&lt;chr&gt;</th><th scope=col>&lt;chr&gt;</th><th scope=col>&lt;chr&gt;</th><th scope=col>&lt;chr&gt;</th><th scope=col>&lt;chr&gt;</th></tr>\n",
       "</thead>\n",
       "<tbody>\n",
       "\t<tr><td>1139246</td><td>66000</td><td> 999089</td><td> 3157</td><td>121</td><td>3</td><td>2004</td><td>  68</td><td>Low   </td><td>11/16/2006 0:00</td><td>⋯</td><td>NA</td><td>NA</td><td>NA</td><td>NA</td><td>NA</td><td>NA</td><td>NA</td><td>NA</td><td>Standard</td><td>Conventional</td></tr>\n",
       "\t<tr><td>1139248</td><td>57000</td><td> 117657</td><td>   77</td><td>121</td><td>3</td><td>1996</td><td>4640</td><td>Low   </td><td>3/26/2004 0:00 </td><td>⋯</td><td>NA</td><td>NA</td><td>NA</td><td>NA</td><td>NA</td><td>NA</td><td>NA</td><td>NA</td><td>Standard</td><td>Conventional</td></tr>\n",
       "\t<tr><td>1139249</td><td>10000</td><td> 434808</td><td> 7009</td><td>121</td><td>3</td><td>2001</td><td>2838</td><td>High  </td><td>2/26/2004 0:00 </td><td>⋯</td><td>NA</td><td>NA</td><td>NA</td><td>NA</td><td>NA</td><td>NA</td><td>NA</td><td>NA</td><td>NA      </td><td>NA          </td></tr>\n",
       "\t<tr><td>1139251</td><td>38500</td><td>1026470</td><td>  332</td><td>121</td><td>3</td><td>2001</td><td>3486</td><td>High  </td><td>5/19/2011 0:00 </td><td>⋯</td><td>NA</td><td>NA</td><td>NA</td><td>NA</td><td>NA</td><td>NA</td><td>NA</td><td>NA</td><td>NA      </td><td>NA          </td></tr>\n",
       "\t<tr><td>1139253</td><td>11000</td><td>1057373</td><td>17311</td><td>121</td><td>3</td><td>2007</td><td> 722</td><td>Medium</td><td>7/23/2009 0:00 </td><td>⋯</td><td>NA</td><td>NA</td><td>NA</td><td>NA</td><td>NA</td><td>NA</td><td>NA</td><td>NA</td><td>NA      </td><td>NA          </td></tr>\n",
       "\t<tr><td>1139255</td><td>26500</td><td>1001274</td><td> 4605</td><td>121</td><td>3</td><td>2004</td><td> 508</td><td>Low   </td><td>12/18/2008 0:00</td><td>⋯</td><td>NA</td><td>NA</td><td>NA</td><td>NA</td><td>NA</td><td>NA</td><td>NA</td><td>NA</td><td>NA      </td><td>NA          </td></tr>\n",
       "</tbody>\n",
       "</table>\n"
      ],
      "text/latex": [
       "A tibble: 6 × 53\n",
       "\\begin{tabular}{lllllllllllllllllllll}\n",
       " SalesID & SalePrice & MachineID & ModelID & datasource & auctioneerID & YearMade & MachineHoursCurrentMeter & UsageBand & saledate & ⋯ & Undercarriage\\_Pad\\_Width & Stick\\_Length & Thumb & Pattern\\_Changer & Grouser\\_Type & Backhoe\\_Mounting & Blade\\_Type & Travel\\_Controls & Differential\\_Type & Steering\\_Controls\\\\\n",
       " <dbl> & <dbl> & <dbl> & <dbl> & <dbl> & <dbl> & <dbl> & <dbl> & <chr> & <chr> & ⋯ & <chr> & <chr> & <chr> & <chr> & <chr> & <chr> & <chr> & <chr> & <chr> & <chr>\\\\\n",
       "\\hline\n",
       "\t 1139246 & 66000 &  999089 &  3157 & 121 & 3 & 2004 &   68 & Low    & 11/16/2006 0:00 & ⋯ & NA & NA & NA & NA & NA & NA & NA & NA & Standard & Conventional\\\\\n",
       "\t 1139248 & 57000 &  117657 &    77 & 121 & 3 & 1996 & 4640 & Low    & 3/26/2004 0:00  & ⋯ & NA & NA & NA & NA & NA & NA & NA & NA & Standard & Conventional\\\\\n",
       "\t 1139249 & 10000 &  434808 &  7009 & 121 & 3 & 2001 & 2838 & High   & 2/26/2004 0:00  & ⋯ & NA & NA & NA & NA & NA & NA & NA & NA & NA       & NA          \\\\\n",
       "\t 1139251 & 38500 & 1026470 &   332 & 121 & 3 & 2001 & 3486 & High   & 5/19/2011 0:00  & ⋯ & NA & NA & NA & NA & NA & NA & NA & NA & NA       & NA          \\\\\n",
       "\t 1139253 & 11000 & 1057373 & 17311 & 121 & 3 & 2007 &  722 & Medium & 7/23/2009 0:00  & ⋯ & NA & NA & NA & NA & NA & NA & NA & NA & NA       & NA          \\\\\n",
       "\t 1139255 & 26500 & 1001274 &  4605 & 121 & 3 & 2004 &  508 & Low    & 12/18/2008 0:00 & ⋯ & NA & NA & NA & NA & NA & NA & NA & NA & NA       & NA          \\\\\n",
       "\\end{tabular}\n"
      ],
      "text/markdown": [
       "\n",
       "A tibble: 6 × 53\n",
       "\n",
       "| SalesID &lt;dbl&gt; | SalePrice &lt;dbl&gt; | MachineID &lt;dbl&gt; | ModelID &lt;dbl&gt; | datasource &lt;dbl&gt; | auctioneerID &lt;dbl&gt; | YearMade &lt;dbl&gt; | MachineHoursCurrentMeter &lt;dbl&gt; | UsageBand &lt;chr&gt; | saledate &lt;chr&gt; | ⋯ ⋯ | Undercarriage_Pad_Width &lt;chr&gt; | Stick_Length &lt;chr&gt; | Thumb &lt;chr&gt; | Pattern_Changer &lt;chr&gt; | Grouser_Type &lt;chr&gt; | Backhoe_Mounting &lt;chr&gt; | Blade_Type &lt;chr&gt; | Travel_Controls &lt;chr&gt; | Differential_Type &lt;chr&gt; | Steering_Controls &lt;chr&gt; |\n",
       "|---|---|---|---|---|---|---|---|---|---|---|---|---|---|---|---|---|---|---|---|---|\n",
       "| 1139246 | 66000 |  999089 |  3157 | 121 | 3 | 2004 |   68 | Low    | 11/16/2006 0:00 | ⋯ | NA | NA | NA | NA | NA | NA | NA | NA | Standard | Conventional |\n",
       "| 1139248 | 57000 |  117657 |    77 | 121 | 3 | 1996 | 4640 | Low    | 3/26/2004 0:00  | ⋯ | NA | NA | NA | NA | NA | NA | NA | NA | Standard | Conventional |\n",
       "| 1139249 | 10000 |  434808 |  7009 | 121 | 3 | 2001 | 2838 | High   | 2/26/2004 0:00  | ⋯ | NA | NA | NA | NA | NA | NA | NA | NA | NA       | NA           |\n",
       "| 1139251 | 38500 | 1026470 |   332 | 121 | 3 | 2001 | 3486 | High   | 5/19/2011 0:00  | ⋯ | NA | NA | NA | NA | NA | NA | NA | NA | NA       | NA           |\n",
       "| 1139253 | 11000 | 1057373 | 17311 | 121 | 3 | 2007 |  722 | Medium | 7/23/2009 0:00  | ⋯ | NA | NA | NA | NA | NA | NA | NA | NA | NA       | NA           |\n",
       "| 1139255 | 26500 | 1001274 |  4605 | 121 | 3 | 2004 |  508 | Low    | 12/18/2008 0:00 | ⋯ | NA | NA | NA | NA | NA | NA | NA | NA | NA       | NA           |\n",
       "\n"
      ],
      "text/plain": [
       "  SalesID SalePrice MachineID ModelID datasource auctioneerID YearMade\n",
       "1 1139246 66000      999089    3157   121        3            2004    \n",
       "2 1139248 57000      117657      77   121        3            1996    \n",
       "3 1139249 10000      434808    7009   121        3            2001    \n",
       "4 1139251 38500     1026470     332   121        3            2001    \n",
       "5 1139253 11000     1057373   17311   121        3            2007    \n",
       "6 1139255 26500     1001274    4605   121        3            2004    \n",
       "  MachineHoursCurrentMeter UsageBand saledate        ⋯ Undercarriage_Pad_Width\n",
       "1   68                     Low       11/16/2006 0:00 ⋯ NA                     \n",
       "2 4640                     Low       3/26/2004 0:00  ⋯ NA                     \n",
       "3 2838                     High      2/26/2004 0:00  ⋯ NA                     \n",
       "4 3486                     High      5/19/2011 0:00  ⋯ NA                     \n",
       "5  722                     Medium    7/23/2009 0:00  ⋯ NA                     \n",
       "6  508                     Low       12/18/2008 0:00 ⋯ NA                     \n",
       "  Stick_Length Thumb Pattern_Changer Grouser_Type Backhoe_Mounting Blade_Type\n",
       "1 NA           NA    NA              NA           NA               NA        \n",
       "2 NA           NA    NA              NA           NA               NA        \n",
       "3 NA           NA    NA              NA           NA               NA        \n",
       "4 NA           NA    NA              NA           NA               NA        \n",
       "5 NA           NA    NA              NA           NA               NA        \n",
       "6 NA           NA    NA              NA           NA               NA        \n",
       "  Travel_Controls Differential_Type Steering_Controls\n",
       "1 NA              Standard          Conventional     \n",
       "2 NA              Standard          Conventional     \n",
       "3 NA              NA                NA               \n",
       "4 NA              NA                NA               \n",
       "5 NA              NA                NA               \n",
       "6 NA              NA                NA               "
      ]
     },
     "metadata": {},
     "output_type": "display_data"
    }
   ],
   "source": [
    "data <- read_csv(\"../input/bluebook-for-bulldozers/TrainAndValid.csv\")\n",
    "head(data)"
   ]
  },
  {
   "cell_type": "markdown",
   "metadata": {
    "papermill": {
     "duration": 0.022115,
     "end_time": "2021-01-11T10:42:07.183923",
     "exception": false,
     "start_time": "2021-01-11T10:42:07.161808",
     "status": "completed"
    },
    "tags": []
   },
   "source": [
    "# Preprocessing"
   ]
  },
  {
   "cell_type": "code",
   "execution_count": 3,
   "metadata": {
    "execution": {
     "iopub.execute_input": "2021-01-11T10:42:07.231797Z",
     "iopub.status.busy": "2021-01-11T10:42:07.231270Z",
     "iopub.status.idle": "2021-01-11T10:42:07.266503Z",
     "shell.execute_reply": "2021-01-11T10:42:07.264042Z"
    },
    "papermill": {
     "duration": 0.06281,
     "end_time": "2021-01-11T10:42:07.266653",
     "exception": false,
     "start_time": "2021-01-11T10:42:07.203843",
     "status": "completed"
    },
    "tags": []
   },
   "outputs": [],
   "source": [
    "# drop columns with IDs\n",
    "colIDs <- c(\"auctioneerID\", \"SalesID\", \"ModelID\", \"MachineID\")\n",
    "data <- data %>% select(-all_of(colIDs)) \n"
   ]
  },
  {
   "cell_type": "code",
   "execution_count": 4,
   "metadata": {
    "execution": {
     "iopub.execute_input": "2021-01-11T10:42:07.318575Z",
     "iopub.status.busy": "2021-01-11T10:42:07.318103Z",
     "iopub.status.idle": "2021-01-11T10:42:08.830968Z",
     "shell.execute_reply": "2021-01-11T10:42:08.829556Z"
    },
    "papermill": {
     "duration": 1.543442,
     "end_time": "2021-01-11T10:42:08.831124",
     "exception": false,
     "start_time": "2021-01-11T10:42:07.287682",
     "status": "completed"
    },
    "tags": []
   },
   "outputs": [],
   "source": [
    "# change saledate to saleyear\n",
    "data$saleYear <- as.numeric(format(as.Date(data$saledate, format = \"%m/%d/%Y\"),\"%Y\"))\n",
    "data <- subset(data, select = -c(saledate))"
   ]
  },
  {
   "cell_type": "raw",
   "metadata": {
    "papermill": {
     "duration": 0.016607,
     "end_time": "2021-01-11T10:42:08.864787",
     "exception": false,
     "start_time": "2021-01-11T10:42:08.848180",
     "status": "completed"
    },
    "tags": []
   },
   "source": [
    "Treating NA values"
   ]
  },
  {
   "cell_type": "code",
   "execution_count": 5,
   "metadata": {
    "execution": {
     "iopub.execute_input": "2021-01-11T10:42:08.902712Z",
     "iopub.status.busy": "2021-01-11T10:42:08.901060Z",
     "iopub.status.idle": "2021-01-11T10:42:09.714805Z",
     "shell.execute_reply": "2021-01-11T10:42:09.713330Z"
    },
    "papermill": {
     "duration": 0.833414,
     "end_time": "2021-01-11T10:42:09.714964",
     "exception": false,
     "start_time": "2021-01-11T10:42:08.881550",
     "status": "completed"
    },
    "tags": []
   },
   "outputs": [
    {
     "data": {
      "text/html": [
       "<style>\n",
       ".list-inline {list-style: none; margin:0; padding: 0}\n",
       ".list-inline>li {display: inline-block}\n",
       ".list-inline>li:not(:last-child)::after {content: \"\\00b7\"; padding: 0 .5ex}\n",
       "</style>\n",
       "<ol class=list-inline><li>412698</li><li>49</li></ol>\n"
      ],
      "text/latex": [
       "\\begin{enumerate*}\n",
       "\\item 412698\n",
       "\\item 49\n",
       "\\end{enumerate*}\n"
      ],
      "text/markdown": [
       "1. 412698\n",
       "2. 49\n",
       "\n",
       "\n"
      ],
      "text/plain": [
       "[1] 412698     49"
      ]
     },
     "metadata": {},
     "output_type": "display_data"
    },
    {
     "data": {
      "text/html": [
       "<table class=\"dataframe\">\n",
       "<caption>A tibble: 49 × 2</caption>\n",
       "<thead>\n",
       "\t<tr><th scope=col>name</th><th scope=col>value</th></tr>\n",
       "\t<tr><th scope=col>&lt;chr&gt;</th><th scope=col>&lt;dbl&gt;</th></tr>\n",
       "</thead>\n",
       "<tbody>\n",
       "\t<tr><td>SalePrice               </td><td>0.0000000000</td></tr>\n",
       "\t<tr><td>datasource              </td><td>0.0000000000</td></tr>\n",
       "\t<tr><td>YearMade                </td><td>0.0000000000</td></tr>\n",
       "\t<tr><td>MachineHoursCurrentMeter</td><td>0.6425861041</td></tr>\n",
       "\t<tr><td>UsageBand               </td><td>0.8214917446</td></tr>\n",
       "\t<tr><td>fiModelDesc             </td><td>0.0000000000</td></tr>\n",
       "\t<tr><td>fiBaseModel             </td><td>0.0000000000</td></tr>\n",
       "\t<tr><td>fiSecondaryDesc         </td><td>0.3409926871</td></tr>\n",
       "\t<tr><td>fiModelSeries           </td><td>0.8578452040</td></tr>\n",
       "\t<tr><td>fiModelDescriptor       </td><td>0.8187148956</td></tr>\n",
       "\t<tr><td>ProductSize             </td><td>0.5248511018</td></tr>\n",
       "\t<tr><td>fiProductClassDesc      </td><td>0.0000000000</td></tr>\n",
       "\t<tr><td>state                   </td><td>0.0000000000</td></tr>\n",
       "\t<tr><td>ProductGroup            </td><td>0.0000000000</td></tr>\n",
       "\t<tr><td>ProductGroupDesc        </td><td>0.0000000000</td></tr>\n",
       "\t<tr><td>Drive_System            </td><td>0.7405197021</td></tr>\n",
       "\t<tr><td>Enclosure               </td><td>0.0008093085</td></tr>\n",
       "\t<tr><td>Forks                   </td><td>0.5209208671</td></tr>\n",
       "\t<tr><td>Pad_Type                </td><td>0.8034979573</td></tr>\n",
       "\t<tr><td>Ride_Control            </td><td>0.6299279376</td></tr>\n",
       "\t<tr><td>Stick                   </td><td>0.8034979573</td></tr>\n",
       "\t<tr><td>Transmission            </td><td>0.5444441214</td></tr>\n",
       "\t<tr><td>Turbocharged            </td><td>0.8034979573</td></tr>\n",
       "\t<tr><td>Blade_Extension         </td><td>0.9370411293</td></tr>\n",
       "\t<tr><td>Blade_Width             </td><td>0.9370411293</td></tr>\n",
       "\t<tr><td>Enclosure_Type          </td><td>0.9370411293</td></tr>\n",
       "\t<tr><td>Engine_Horsepower       </td><td>0.9370411293</td></tr>\n",
       "\t<tr><td>Hydraulics              </td><td>0.2000615462</td></tr>\n",
       "\t<tr><td>Pushblock               </td><td>0.9370411293</td></tr>\n",
       "\t<tr><td>Ripper                  </td><td>0.7408637793</td></tr>\n",
       "\t<tr><td>Scarifier               </td><td>0.9370144755</td></tr>\n",
       "\t<tr><td>Tip_Control             </td><td>0.9370411293</td></tr>\n",
       "\t<tr><td>Tire_Size               </td><td>0.7634153788</td></tr>\n",
       "\t<tr><td>Coupler                 </td><td>0.4652772730</td></tr>\n",
       "\t<tr><td>Coupler_System          </td><td>0.8910244295</td></tr>\n",
       "\t<tr><td>Grouser_Tracks          </td><td>0.8912643143</td></tr>\n",
       "\t<tr><td>Hydraulics_Flow         </td><td>0.8912643143</td></tr>\n",
       "\t<tr><td>Track_Type              </td><td>0.7523782524</td></tr>\n",
       "\t<tr><td>Undercarriage_Pad_Width </td><td>0.7506263660</td></tr>\n",
       "\t<tr><td>Stick_Length            </td><td>0.7522134830</td></tr>\n",
       "\t<tr><td>Thumb                   </td><td>0.7520414443</td></tr>\n",
       "\t<tr><td>Pattern_Changer         </td><td>0.7522134830</td></tr>\n",
       "\t<tr><td>Grouser_Type            </td><td>0.7523782524</td></tr>\n",
       "\t<tr><td>Backhoe_Mounting        </td><td>0.8044284198</td></tr>\n",
       "\t<tr><td>Blade_Type              </td><td>0.8016103785</td></tr>\n",
       "\t<tr><td>Travel_Controls         </td><td>0.8016055324</td></tr>\n",
       "\t<tr><td>Differential_Type       </td><td>0.8265947497</td></tr>\n",
       "\t<tr><td>Steering_Controls       </td><td>0.8266965190</td></tr>\n",
       "\t<tr><td>saleYear                </td><td>0.0000000000</td></tr>\n",
       "</tbody>\n",
       "</table>\n"
      ],
      "text/latex": [
       "A tibble: 49 × 2\n",
       "\\begin{tabular}{ll}\n",
       " name & value\\\\\n",
       " <chr> & <dbl>\\\\\n",
       "\\hline\n",
       "\t SalePrice                & 0.0000000000\\\\\n",
       "\t datasource               & 0.0000000000\\\\\n",
       "\t YearMade                 & 0.0000000000\\\\\n",
       "\t MachineHoursCurrentMeter & 0.6425861041\\\\\n",
       "\t UsageBand                & 0.8214917446\\\\\n",
       "\t fiModelDesc              & 0.0000000000\\\\\n",
       "\t fiBaseModel              & 0.0000000000\\\\\n",
       "\t fiSecondaryDesc          & 0.3409926871\\\\\n",
       "\t fiModelSeries            & 0.8578452040\\\\\n",
       "\t fiModelDescriptor        & 0.8187148956\\\\\n",
       "\t ProductSize              & 0.5248511018\\\\\n",
       "\t fiProductClassDesc       & 0.0000000000\\\\\n",
       "\t state                    & 0.0000000000\\\\\n",
       "\t ProductGroup             & 0.0000000000\\\\\n",
       "\t ProductGroupDesc         & 0.0000000000\\\\\n",
       "\t Drive\\_System             & 0.7405197021\\\\\n",
       "\t Enclosure                & 0.0008093085\\\\\n",
       "\t Forks                    & 0.5209208671\\\\\n",
       "\t Pad\\_Type                 & 0.8034979573\\\\\n",
       "\t Ride\\_Control             & 0.6299279376\\\\\n",
       "\t Stick                    & 0.8034979573\\\\\n",
       "\t Transmission             & 0.5444441214\\\\\n",
       "\t Turbocharged             & 0.8034979573\\\\\n",
       "\t Blade\\_Extension          & 0.9370411293\\\\\n",
       "\t Blade\\_Width              & 0.9370411293\\\\\n",
       "\t Enclosure\\_Type           & 0.9370411293\\\\\n",
       "\t Engine\\_Horsepower        & 0.9370411293\\\\\n",
       "\t Hydraulics               & 0.2000615462\\\\\n",
       "\t Pushblock                & 0.9370411293\\\\\n",
       "\t Ripper                   & 0.7408637793\\\\\n",
       "\t Scarifier                & 0.9370144755\\\\\n",
       "\t Tip\\_Control              & 0.9370411293\\\\\n",
       "\t Tire\\_Size                & 0.7634153788\\\\\n",
       "\t Coupler                  & 0.4652772730\\\\\n",
       "\t Coupler\\_System           & 0.8910244295\\\\\n",
       "\t Grouser\\_Tracks           & 0.8912643143\\\\\n",
       "\t Hydraulics\\_Flow          & 0.8912643143\\\\\n",
       "\t Track\\_Type               & 0.7523782524\\\\\n",
       "\t Undercarriage\\_Pad\\_Width  & 0.7506263660\\\\\n",
       "\t Stick\\_Length             & 0.7522134830\\\\\n",
       "\t Thumb                    & 0.7520414443\\\\\n",
       "\t Pattern\\_Changer          & 0.7522134830\\\\\n",
       "\t Grouser\\_Type             & 0.7523782524\\\\\n",
       "\t Backhoe\\_Mounting         & 0.8044284198\\\\\n",
       "\t Blade\\_Type               & 0.8016103785\\\\\n",
       "\t Travel\\_Controls          & 0.8016055324\\\\\n",
       "\t Differential\\_Type        & 0.8265947497\\\\\n",
       "\t Steering\\_Controls        & 0.8266965190\\\\\n",
       "\t saleYear                 & 0.0000000000\\\\\n",
       "\\end{tabular}\n"
      ],
      "text/markdown": [
       "\n",
       "A tibble: 49 × 2\n",
       "\n",
       "| name &lt;chr&gt; | value &lt;dbl&gt; |\n",
       "|---|---|\n",
       "| SalePrice                | 0.0000000000 |\n",
       "| datasource               | 0.0000000000 |\n",
       "| YearMade                 | 0.0000000000 |\n",
       "| MachineHoursCurrentMeter | 0.6425861041 |\n",
       "| UsageBand                | 0.8214917446 |\n",
       "| fiModelDesc              | 0.0000000000 |\n",
       "| fiBaseModel              | 0.0000000000 |\n",
       "| fiSecondaryDesc          | 0.3409926871 |\n",
       "| fiModelSeries            | 0.8578452040 |\n",
       "| fiModelDescriptor        | 0.8187148956 |\n",
       "| ProductSize              | 0.5248511018 |\n",
       "| fiProductClassDesc       | 0.0000000000 |\n",
       "| state                    | 0.0000000000 |\n",
       "| ProductGroup             | 0.0000000000 |\n",
       "| ProductGroupDesc         | 0.0000000000 |\n",
       "| Drive_System             | 0.7405197021 |\n",
       "| Enclosure                | 0.0008093085 |\n",
       "| Forks                    | 0.5209208671 |\n",
       "| Pad_Type                 | 0.8034979573 |\n",
       "| Ride_Control             | 0.6299279376 |\n",
       "| Stick                    | 0.8034979573 |\n",
       "| Transmission             | 0.5444441214 |\n",
       "| Turbocharged             | 0.8034979573 |\n",
       "| Blade_Extension          | 0.9370411293 |\n",
       "| Blade_Width              | 0.9370411293 |\n",
       "| Enclosure_Type           | 0.9370411293 |\n",
       "| Engine_Horsepower        | 0.9370411293 |\n",
       "| Hydraulics               | 0.2000615462 |\n",
       "| Pushblock                | 0.9370411293 |\n",
       "| Ripper                   | 0.7408637793 |\n",
       "| Scarifier                | 0.9370144755 |\n",
       "| Tip_Control              | 0.9370411293 |\n",
       "| Tire_Size                | 0.7634153788 |\n",
       "| Coupler                  | 0.4652772730 |\n",
       "| Coupler_System           | 0.8910244295 |\n",
       "| Grouser_Tracks           | 0.8912643143 |\n",
       "| Hydraulics_Flow          | 0.8912643143 |\n",
       "| Track_Type               | 0.7523782524 |\n",
       "| Undercarriage_Pad_Width  | 0.7506263660 |\n",
       "| Stick_Length             | 0.7522134830 |\n",
       "| Thumb                    | 0.7520414443 |\n",
       "| Pattern_Changer          | 0.7522134830 |\n",
       "| Grouser_Type             | 0.7523782524 |\n",
       "| Backhoe_Mounting         | 0.8044284198 |\n",
       "| Blade_Type               | 0.8016103785 |\n",
       "| Travel_Controls          | 0.8016055324 |\n",
       "| Differential_Type        | 0.8265947497 |\n",
       "| Steering_Controls        | 0.8266965190 |\n",
       "| saleYear                 | 0.0000000000 |\n",
       "\n"
      ],
      "text/plain": [
       "   name                     value       \n",
       "1  SalePrice                0.0000000000\n",
       "2  datasource               0.0000000000\n",
       "3  YearMade                 0.0000000000\n",
       "4  MachineHoursCurrentMeter 0.6425861041\n",
       "5  UsageBand                0.8214917446\n",
       "6  fiModelDesc              0.0000000000\n",
       "7  fiBaseModel              0.0000000000\n",
       "8  fiSecondaryDesc          0.3409926871\n",
       "9  fiModelSeries            0.8578452040\n",
       "10 fiModelDescriptor        0.8187148956\n",
       "11 ProductSize              0.5248511018\n",
       "12 fiProductClassDesc       0.0000000000\n",
       "13 state                    0.0000000000\n",
       "14 ProductGroup             0.0000000000\n",
       "15 ProductGroupDesc         0.0000000000\n",
       "16 Drive_System             0.7405197021\n",
       "17 Enclosure                0.0008093085\n",
       "18 Forks                    0.5209208671\n",
       "19 Pad_Type                 0.8034979573\n",
       "20 Ride_Control             0.6299279376\n",
       "21 Stick                    0.8034979573\n",
       "22 Transmission             0.5444441214\n",
       "23 Turbocharged             0.8034979573\n",
       "24 Blade_Extension          0.9370411293\n",
       "25 Blade_Width              0.9370411293\n",
       "26 Enclosure_Type           0.9370411293\n",
       "27 Engine_Horsepower        0.9370411293\n",
       "28 Hydraulics               0.2000615462\n",
       "29 Pushblock                0.9370411293\n",
       "30 Ripper                   0.7408637793\n",
       "31 Scarifier                0.9370144755\n",
       "32 Tip_Control              0.9370411293\n",
       "33 Tire_Size                0.7634153788\n",
       "34 Coupler                  0.4652772730\n",
       "35 Coupler_System           0.8910244295\n",
       "36 Grouser_Tracks           0.8912643143\n",
       "37 Hydraulics_Flow          0.8912643143\n",
       "38 Track_Type               0.7523782524\n",
       "39 Undercarriage_Pad_Width  0.7506263660\n",
       "40 Stick_Length             0.7522134830\n",
       "41 Thumb                    0.7520414443\n",
       "42 Pattern_Changer          0.7522134830\n",
       "43 Grouser_Type             0.7523782524\n",
       "44 Backhoe_Mounting         0.8044284198\n",
       "45 Blade_Type               0.8016103785\n",
       "46 Travel_Controls          0.8016055324\n",
       "47 Differential_Type        0.8265947497\n",
       "48 Steering_Controls        0.8266965190\n",
       "49 saleYear                 0.0000000000"
      ]
     },
     "metadata": {},
     "output_type": "display_data"
    },
    {
     "data": {
      "text/html": [
       "<style>\n",
       ".list-inline {list-style: none; margin:0; padding: 0}\n",
       ".list-inline>li {display: inline-block}\n",
       ".list-inline>li:not(:last-child)::after {content: \"\\00b7\"; padding: 0 .5ex}\n",
       "</style>\n",
       "<ol class=list-inline><li>412698</li><li>21</li></ol>\n"
      ],
      "text/latex": [
       "\\begin{enumerate*}\n",
       "\\item 412698\n",
       "\\item 21\n",
       "\\end{enumerate*}\n"
      ],
      "text/markdown": [
       "1. 412698\n",
       "2. 21\n",
       "\n",
       "\n"
      ],
      "text/plain": [
       "[1] 412698     21"
      ]
     },
     "metadata": {},
     "output_type": "display_data"
    }
   ],
   "source": [
    "dim(data)\n",
    "\n",
    "#check for NA values percentage\n",
    "enframe(colSums(is.na(data)) / nrow(data))\n",
    "\n",
    "# choose variables with less than 75% missing values\n",
    "non.mis <- enframe(colSums(is.na(data))/nrow(data)) %>% filter(value < 0.75) %>% select(name) %>% pull\n",
    "data <- data[, non.mis]\n",
    "dim(data)\n",
    "# only 21 variables remains in the dataset"
   ]
  },
  {
   "cell_type": "raw",
   "metadata": {
    "papermill": {
     "duration": 0.019499,
     "end_time": "2021-01-11T10:42:09.754035",
     "exception": false,
     "start_time": "2021-01-11T10:42:09.734536",
     "status": "completed"
    },
    "tags": []
   },
   "source": [
    "Treating NAs for numerical variables"
   ]
  },
  {
   "cell_type": "code",
   "execution_count": 6,
   "metadata": {
    "execution": {
     "iopub.execute_input": "2021-01-11T10:42:09.797615Z",
     "iopub.status.busy": "2021-01-11T10:42:09.795987Z",
     "iopub.status.idle": "2021-01-11T10:42:09.827481Z",
     "shell.execute_reply": "2021-01-11T10:42:09.826212Z"
    },
    "papermill": {
     "duration": 0.053471,
     "end_time": "2021-01-11T10:42:09.827600",
     "exception": false,
     "start_time": "2021-01-11T10:42:09.774129",
     "status": "completed"
    },
    "tags": []
   },
   "outputs": [
    {
     "data": {
      "text/html": [
       "<style>\n",
       ".dl-inline {width: auto; margin:0; padding: 0}\n",
       ".dl-inline>dt, .dl-inline>dd {float: none; width: auto; display: inline-block}\n",
       ".dl-inline>dt::after {content: \":\\0020\"; padding-right: .5ex}\n",
       ".dl-inline>dt:not(:first-of-type) {padding-left: .5ex}\n",
       "</style><dl class=dl-inline><dt>SalePrice</dt><dd>0</dd><dt>datasource</dt><dd>0</dd><dt>YearMade</dt><dd>0</dd><dt>MachineHoursCurrentMeter</dt><dd>265194</dd><dt>saleYear</dt><dd>0</dd></dl>\n"
      ],
      "text/latex": [
       "\\begin{description*}\n",
       "\\item[SalePrice] 0\n",
       "\\item[datasource] 0\n",
       "\\item[YearMade] 0\n",
       "\\item[MachineHoursCurrentMeter] 265194\n",
       "\\item[saleYear] 0\n",
       "\\end{description*}\n"
      ],
      "text/markdown": [
       "SalePrice\n",
       ":   0datasource\n",
       ":   0YearMade\n",
       ":   0MachineHoursCurrentMeter\n",
       ":   265194saleYear\n",
       ":   0\n",
       "\n"
      ],
      "text/plain": [
       "               SalePrice               datasource                 YearMade \n",
       "                       0                        0                        0 \n",
       "MachineHoursCurrentMeter                 saleYear \n",
       "                  265194                        0 "
      ]
     },
     "metadata": {},
     "output_type": "display_data"
    }
   ],
   "source": [
    "# find columns with numerical values (there are 5)\n",
    "## NAs\n",
    "colSums(is.na(dplyr::select_if(data, is.numeric)))\n",
    "# only 1 variable (MachineHoursCurrentMeter) contains NAs"
   ]
  },
  {
   "cell_type": "code",
   "execution_count": 7,
   "metadata": {
    "execution": {
     "iopub.execute_input": "2021-01-11T10:42:09.872045Z",
     "iopub.status.busy": "2021-01-11T10:42:09.870460Z",
     "iopub.status.idle": "2021-01-11T10:42:09.899152Z",
     "shell.execute_reply": "2021-01-11T10:42:09.897960Z"
    },
    "papermill": {
     "duration": 0.05141,
     "end_time": "2021-01-11T10:42:09.899271",
     "exception": false,
     "start_time": "2021-01-11T10:42:09.847861",
     "status": "completed"
    },
    "tags": []
   },
   "outputs": [
    {
     "data": {
      "text/html": [
       "0"
      ],
      "text/latex": [
       "0"
      ],
      "text/markdown": [
       "0"
      ],
      "text/plain": [
       "[1] 0"
      ]
     },
     "metadata": {},
     "output_type": "display_data"
    },
    {
     "data": {
      "text/html": [
       "0.821491744568668"
      ],
      "text/latex": [
       "0.821491744568668"
      ],
      "text/markdown": [
       "0.821491744568668"
      ],
      "text/plain": [
       "[1] 0.8214917"
      ]
     },
     "metadata": {},
     "output_type": "display_data"
    }
   ],
   "source": [
    "median(data$MachineHoursCurrentMeter, na.rm = T)\n",
    "# median of the MachineHoursCurrentMeter is 0\n",
    "(sum(is.na(data$MachineHoursCurrentMeter)) + sum(data$MachineHoursCurrentMeter == 0, na.rm = T)) / nrow(data)\n",
    "# filling NAs with median would end up in 82% observations having the value of 0\n",
    "# thus we won't use this variable\n",
    "data <- data %>% select(-\"MachineHoursCurrentMeter\")"
   ]
  },
  {
   "cell_type": "markdown",
   "metadata": {
    "papermill": {
     "duration": 0.021423,
     "end_time": "2021-01-11T10:42:09.942615",
     "exception": false,
     "start_time": "2021-01-11T10:42:09.921192",
     "status": "completed"
    },
    "tags": []
   },
   "source": [
    "Distinguishing between text and categorical variables"
   ]
  },
  {
   "cell_type": "code",
   "execution_count": 8,
   "metadata": {
    "execution": {
     "iopub.execute_input": "2021-01-11T10:42:09.990106Z",
     "iopub.status.busy": "2021-01-11T10:42:09.988503Z",
     "iopub.status.idle": "2021-01-11T10:42:10.459564Z",
     "shell.execute_reply": "2021-01-11T10:42:10.458449Z"
    },
    "papermill": {
     "duration": 0.495562,
     "end_time": "2021-01-11T10:42:10.459706",
     "exception": false,
     "start_time": "2021-01-11T10:42:09.964144",
     "status": "completed"
    },
    "tags": []
   },
   "outputs": [
    {
     "data": {
      "text/html": [
       "<table class=\"dataframe\">\n",
       "<caption>A tibble: 1 × 16</caption>\n",
       "<thead>\n",
       "\t<tr><th scope=col>fiModelDesc</th><th scope=col>fiBaseModel</th><th scope=col>fiSecondaryDesc</th><th scope=col>ProductSize</th><th scope=col>fiProductClassDesc</th><th scope=col>state</th><th scope=col>ProductGroup</th><th scope=col>ProductGroupDesc</th><th scope=col>Drive_System</th><th scope=col>Enclosure</th><th scope=col>Forks</th><th scope=col>Ride_Control</th><th scope=col>Transmission</th><th scope=col>Hydraulics</th><th scope=col>Ripper</th><th scope=col>Coupler</th></tr>\n",
       "\t<tr><th scope=col>&lt;int&gt;</th><th scope=col>&lt;int&gt;</th><th scope=col>&lt;int&gt;</th><th scope=col>&lt;int&gt;</th><th scope=col>&lt;int&gt;</th><th scope=col>&lt;int&gt;</th><th scope=col>&lt;int&gt;</th><th scope=col>&lt;int&gt;</th><th scope=col>&lt;int&gt;</th><th scope=col>&lt;int&gt;</th><th scope=col>&lt;int&gt;</th><th scope=col>&lt;int&gt;</th><th scope=col>&lt;int&gt;</th><th scope=col>&lt;int&gt;</th><th scope=col>&lt;int&gt;</th><th scope=col>&lt;int&gt;</th></tr>\n",
       "</thead>\n",
       "<tbody>\n",
       "\t<tr><td>5059</td><td>1961</td><td>173</td><td>7</td><td>74</td><td>53</td><td>6</td><td>6</td><td>5</td><td>7</td><td>3</td><td>4</td><td>9</td><td>13</td><td>5</td><td>4</td></tr>\n",
       "</tbody>\n",
       "</table>\n"
      ],
      "text/latex": [
       "A tibble: 1 × 16\n",
       "\\begin{tabular}{llllllllllllllll}\n",
       " fiModelDesc & fiBaseModel & fiSecondaryDesc & ProductSize & fiProductClassDesc & state & ProductGroup & ProductGroupDesc & Drive\\_System & Enclosure & Forks & Ride\\_Control & Transmission & Hydraulics & Ripper & Coupler\\\\\n",
       " <int> & <int> & <int> & <int> & <int> & <int> & <int> & <int> & <int> & <int> & <int> & <int> & <int> & <int> & <int> & <int>\\\\\n",
       "\\hline\n",
       "\t 5059 & 1961 & 173 & 7 & 74 & 53 & 6 & 6 & 5 & 7 & 3 & 4 & 9 & 13 & 5 & 4\\\\\n",
       "\\end{tabular}\n"
      ],
      "text/markdown": [
       "\n",
       "A tibble: 1 × 16\n",
       "\n",
       "| fiModelDesc &lt;int&gt; | fiBaseModel &lt;int&gt; | fiSecondaryDesc &lt;int&gt; | ProductSize &lt;int&gt; | fiProductClassDesc &lt;int&gt; | state &lt;int&gt; | ProductGroup &lt;int&gt; | ProductGroupDesc &lt;int&gt; | Drive_System &lt;int&gt; | Enclosure &lt;int&gt; | Forks &lt;int&gt; | Ride_Control &lt;int&gt; | Transmission &lt;int&gt; | Hydraulics &lt;int&gt; | Ripper &lt;int&gt; | Coupler &lt;int&gt; |\n",
       "|---|---|---|---|---|---|---|---|---|---|---|---|---|---|---|---|\n",
       "| 5059 | 1961 | 173 | 7 | 74 | 53 | 6 | 6 | 5 | 7 | 3 | 4 | 9 | 13 | 5 | 4 |\n",
       "\n"
      ],
      "text/plain": [
       "  fiModelDesc fiBaseModel fiSecondaryDesc ProductSize fiProductClassDesc state\n",
       "1 5059        1961        173             7           74                 53   \n",
       "  ProductGroup ProductGroupDesc Drive_System Enclosure Forks Ride_Control\n",
       "1 6            6                5            7         3     4           \n",
       "  Transmission Hydraulics Ripper Coupler\n",
       "1 9            13         5      4      "
      ]
     },
     "metadata": {},
     "output_type": "display_data"
    }
   ],
   "source": [
    "# data %>% select_if(is.character) %>% ncol()  # num. of string variables = 16\n",
    "# variables having > 20 categories\n",
    "data %>% summarise(across(where(is.character), ~ length(unique(.x))))\n",
    "not.categ <- data %>% summarise(across(where(is.character), ~ length(unique(.x)))) %>%\n",
    "    select_if(function(x) x > 20) %>% names()\n",
    "\n",
    "# choose only variables with < 20 categories and transform them into factor     \n",
    "data <- data %>% select(-all_of(not.categ)) %>% mutate_if(is.character, as.factor)"
   ]
  },
  {
   "cell_type": "code",
   "execution_count": 9,
   "metadata": {
    "execution": {
     "iopub.execute_input": "2021-01-11T10:42:10.511692Z",
     "iopub.status.busy": "2021-01-11T10:42:10.509927Z",
     "iopub.status.idle": "2021-01-11T10:42:10.640627Z",
     "shell.execute_reply": "2021-01-11T10:42:10.637436Z"
    },
    "papermill": {
     "duration": 0.157495,
     "end_time": "2021-01-11T10:42:10.640860",
     "exception": false,
     "start_time": "2021-01-11T10:42:10.483365",
     "status": "completed"
    },
    "tags": []
   },
   "outputs": [
    {
     "name": "stdout",
     "output_type": "stream",
     "text": [
      "         ProductSize    \n",
      " Compact       :  6280  \n",
      " Large         : 21396  \n",
      " Large / Medium: 51297  \n",
      " Medium        : 64342  \n",
      " Mini          : 25721  \n",
      " Small         : 27057  \n",
      " NA's          :216605  \n",
      " ProductGroup\n",
      " BL : 81401  \n",
      " MG : 26258  \n",
      " SSL: 45011  \n",
      " TEX:104230  \n",
      " TTT: 82582  \n",
      " WL : 73216  \n",
      "            ProductGroupDesc \n",
      " Backhoe Loaders    : 81401  \n",
      " Motor Graders      : 26258  \n",
      " Skid Steer Loaders : 45011  \n",
      " Track Excavators   :104230  \n",
      " Track Type Tractors: 82582  \n",
      " Wheel Loader       : 73216  \n",
      "           Drive_System   \n",
      " All Wheel Drive :   824  \n",
      " Four Wheel Drive: 33551  \n",
      " No              : 25166  \n",
      " Two Wheel Drive : 47546  \n",
      " NA's            :305611  \n",
      "               Enclosure     \n",
      " EROPS              :141769  \n",
      " EROPS AC           :    18  \n",
      " EROPS w AC         : 92601  \n",
      " NO ROPS            :     3  \n",
      " None or Unspecified:     2  \n",
      " OROPS              :177971  \n",
      " NA's               :   334  \n",
      "                 Forks       \n",
      " None or Unspecified:183061  \n",
      " Yes                : 14654  \n",
      " NA's               :214983  \n",
      "              Ride_Control   \n",
      " No                 : 79389  \n",
      " None or Unspecified: 64693  \n",
      " Yes                :  8646  \n",
      " NA's               :259970  \n",
      "              Transmission   \n",
      " Standard           :143915  \n",
      " None or Unspecified: 23889  \n",
      " Powershift         : 11991  \n",
      " Powershuttle       :  4286  \n",
      " Hydrostatic        :  3342  \n",
      " (Other)            :   584  \n",
      " NA's               :224691  \n",
      "             Hydraulics    \n",
      " 2 Valve          :145317  \n",
      " Standard         :106515  \n",
      " Auxiliary        : 43224  \n",
      " Base + 1 Function: 25511  \n",
      " 3 Valve          :  5807  \n",
      " (Other)          :  3759  \n",
      " NA's             : 82565  \n",
      "                 Ripper      \n",
      " Multi Shank        :  8071  \n",
      " None or Unspecified: 85405  \n",
      " Single Shank       :  5284  \n",
      " Yes                :  8185  \n",
      " NA's               :305753  \n",
      "                Coupler      \n",
      " Hydraulic          :  6312  \n",
      " Manual             : 23918  \n",
      " None or Unspecified:190449  \n",
      " NA's               :192019  \n"
     ]
    }
   ],
   "source": [
    "# see the categories with their frequency of categ. variables\n",
    "categ <- data %>% select_if(is.factor) %>% names()\n",
    "for(i in 1:length(categ)){data[, categ[i]] %>% summary() %>% print()}\n"
   ]
  },
  {
   "cell_type": "code",
   "execution_count": 10,
   "metadata": {
    "execution": {
     "iopub.execute_input": "2021-01-11T10:42:10.697060Z",
     "iopub.status.busy": "2021-01-11T10:42:10.695575Z",
     "iopub.status.idle": "2021-01-11T10:42:11.090409Z",
     "shell.execute_reply": "2021-01-11T10:42:11.088738Z"
    },
    "papermill": {
     "duration": 0.421518,
     "end_time": "2021-01-11T10:42:11.090593",
     "exception": false,
     "start_time": "2021-01-11T10:42:10.669075",
     "status": "completed"
    },
    "tags": []
   },
   "outputs": [
    {
     "data": {
      "text/html": [
       "<table class=\"dataframe\">\n",
       "<caption>A tibble: 11 × 2</caption>\n",
       "<thead>\n",
       "\t<tr><th scope=col>name</th><th scope=col>value</th></tr>\n",
       "\t<tr><th scope=col>&lt;chr&gt;</th><th scope=col>&lt;dbl&gt;</th></tr>\n",
       "</thead>\n",
       "<tbody>\n",
       "\t<tr><td>ProductSize     </td><td>216605</td></tr>\n",
       "\t<tr><td>ProductGroup    </td><td>     0</td></tr>\n",
       "\t<tr><td>ProductGroupDesc</td><td>     0</td></tr>\n",
       "\t<tr><td>Drive_System    </td><td>305611</td></tr>\n",
       "\t<tr><td>Enclosure       </td><td>   334</td></tr>\n",
       "\t<tr><td>Forks           </td><td>214983</td></tr>\n",
       "\t<tr><td>Ride_Control    </td><td>259970</td></tr>\n",
       "\t<tr><td>Transmission    </td><td>224691</td></tr>\n",
       "\t<tr><td>Hydraulics      </td><td> 82565</td></tr>\n",
       "\t<tr><td>Ripper          </td><td>305753</td></tr>\n",
       "\t<tr><td>Coupler         </td><td>192019</td></tr>\n",
       "</tbody>\n",
       "</table>\n"
      ],
      "text/latex": [
       "A tibble: 11 × 2\n",
       "\\begin{tabular}{ll}\n",
       " name & value\\\\\n",
       " <chr> & <dbl>\\\\\n",
       "\\hline\n",
       "\t ProductSize      & 216605\\\\\n",
       "\t ProductGroup     &      0\\\\\n",
       "\t ProductGroupDesc &      0\\\\\n",
       "\t Drive\\_System     & 305611\\\\\n",
       "\t Enclosure        &    334\\\\\n",
       "\t Forks            & 214983\\\\\n",
       "\t Ride\\_Control     & 259970\\\\\n",
       "\t Transmission     & 224691\\\\\n",
       "\t Hydraulics       &  82565\\\\\n",
       "\t Ripper           & 305753\\\\\n",
       "\t Coupler          & 192019\\\\\n",
       "\\end{tabular}\n"
      ],
      "text/markdown": [
       "\n",
       "A tibble: 11 × 2\n",
       "\n",
       "| name &lt;chr&gt; | value &lt;dbl&gt; |\n",
       "|---|---|\n",
       "| ProductSize      | 216605 |\n",
       "| ProductGroup     |      0 |\n",
       "| ProductGroupDesc |      0 |\n",
       "| Drive_System     | 305611 |\n",
       "| Enclosure        |    334 |\n",
       "| Forks            | 214983 |\n",
       "| Ride_Control     | 259970 |\n",
       "| Transmission     | 224691 |\n",
       "| Hydraulics       |  82565 |\n",
       "| Ripper           | 305753 |\n",
       "| Coupler          | 192019 |\n",
       "\n"
      ],
      "text/plain": [
       "   name             value \n",
       "1  ProductSize      216605\n",
       "2  ProductGroup          0\n",
       "3  ProductGroupDesc      0\n",
       "4  Drive_System     305611\n",
       "5  Enclosure           334\n",
       "6  Forks            214983\n",
       "7  Ride_Control     259970\n",
       "8  Transmission     224691\n",
       "9  Hydraulics        82565\n",
       "10 Ripper           305753\n",
       "11 Coupler          192019"
      ]
     },
     "metadata": {},
     "output_type": "display_data"
    }
   ],
   "source": [
    "# categorical variables, number of NAs\n",
    "enframe(colSums(is.na(dplyr::select_if(data, is.factor))))\n",
    "\n",
    "# function to find the most frequent value of factor\n",
    "calc_mode <- function(x) {\n",
    "  uniqx <- unique(na.omit(x))\n",
    "  return(uniqx[which.max(tabulate(match(x, uniqx)))])\n",
    "}\n",
    "\n",
    "# fill NAs with the most frequent value\n",
    "data <- data %>% mutate_if(is.factor, ~ifelse(is.na(.), calc_mode(.), .))"
   ]
  },
  {
   "cell_type": "code",
   "execution_count": 11,
   "metadata": {
    "execution": {
     "iopub.execute_input": "2021-01-11T10:42:11.145374Z",
     "iopub.status.busy": "2021-01-11T10:42:11.143783Z",
     "iopub.status.idle": "2021-01-11T10:42:11.209213Z",
     "shell.execute_reply": "2021-01-11T10:42:11.207990Z"
    },
    "papermill": {
     "duration": 0.093705,
     "end_time": "2021-01-11T10:42:11.209339",
     "exception": false,
     "start_time": "2021-01-11T10:42:11.115634",
     "status": "completed"
    },
    "tags": []
   },
   "outputs": [
    {
     "data": {
      "text/html": [
       "<table class=\"dataframe\">\n",
       "<caption>A tibble: 15 × 2</caption>\n",
       "<thead>\n",
       "\t<tr><th scope=col>name</th><th scope=col>value</th></tr>\n",
       "\t<tr><th scope=col>&lt;chr&gt;</th><th scope=col>&lt;dbl&gt;</th></tr>\n",
       "</thead>\n",
       "<tbody>\n",
       "\t<tr><td>SalePrice       </td><td>0</td></tr>\n",
       "\t<tr><td>datasource      </td><td>0</td></tr>\n",
       "\t<tr><td>YearMade        </td><td>0</td></tr>\n",
       "\t<tr><td>ProductSize     </td><td>0</td></tr>\n",
       "\t<tr><td>ProductGroup    </td><td>0</td></tr>\n",
       "\t<tr><td>ProductGroupDesc</td><td>0</td></tr>\n",
       "\t<tr><td>Drive_System    </td><td>0</td></tr>\n",
       "\t<tr><td>Enclosure       </td><td>0</td></tr>\n",
       "\t<tr><td>Forks           </td><td>0</td></tr>\n",
       "\t<tr><td>Ride_Control    </td><td>0</td></tr>\n",
       "\t<tr><td>Transmission    </td><td>0</td></tr>\n",
       "\t<tr><td>Hydraulics      </td><td>0</td></tr>\n",
       "\t<tr><td>Ripper          </td><td>0</td></tr>\n",
       "\t<tr><td>Coupler         </td><td>0</td></tr>\n",
       "\t<tr><td>saleYear        </td><td>0</td></tr>\n",
       "</tbody>\n",
       "</table>\n"
      ],
      "text/latex": [
       "A tibble: 15 × 2\n",
       "\\begin{tabular}{ll}\n",
       " name & value\\\\\n",
       " <chr> & <dbl>\\\\\n",
       "\\hline\n",
       "\t SalePrice        & 0\\\\\n",
       "\t datasource       & 0\\\\\n",
       "\t YearMade         & 0\\\\\n",
       "\t ProductSize      & 0\\\\\n",
       "\t ProductGroup     & 0\\\\\n",
       "\t ProductGroupDesc & 0\\\\\n",
       "\t Drive\\_System     & 0\\\\\n",
       "\t Enclosure        & 0\\\\\n",
       "\t Forks            & 0\\\\\n",
       "\t Ride\\_Control     & 0\\\\\n",
       "\t Transmission     & 0\\\\\n",
       "\t Hydraulics       & 0\\\\\n",
       "\t Ripper           & 0\\\\\n",
       "\t Coupler          & 0\\\\\n",
       "\t saleYear         & 0\\\\\n",
       "\\end{tabular}\n"
      ],
      "text/markdown": [
       "\n",
       "A tibble: 15 × 2\n",
       "\n",
       "| name &lt;chr&gt; | value &lt;dbl&gt; |\n",
       "|---|---|\n",
       "| SalePrice        | 0 |\n",
       "| datasource       | 0 |\n",
       "| YearMade         | 0 |\n",
       "| ProductSize      | 0 |\n",
       "| ProductGroup     | 0 |\n",
       "| ProductGroupDesc | 0 |\n",
       "| Drive_System     | 0 |\n",
       "| Enclosure        | 0 |\n",
       "| Forks            | 0 |\n",
       "| Ride_Control     | 0 |\n",
       "| Transmission     | 0 |\n",
       "| Hydraulics       | 0 |\n",
       "| Ripper           | 0 |\n",
       "| Coupler          | 0 |\n",
       "| saleYear         | 0 |\n",
       "\n"
      ],
      "text/plain": [
       "   name             value\n",
       "1  SalePrice        0    \n",
       "2  datasource       0    \n",
       "3  YearMade         0    \n",
       "4  ProductSize      0    \n",
       "5  ProductGroup     0    \n",
       "6  ProductGroupDesc 0    \n",
       "7  Drive_System     0    \n",
       "8  Enclosure        0    \n",
       "9  Forks            0    \n",
       "10 Ride_Control     0    \n",
       "11 Transmission     0    \n",
       "12 Hydraulics       0    \n",
       "13 Ripper           0    \n",
       "14 Coupler          0    \n",
       "15 saleYear         0    "
      ]
     },
     "metadata": {},
     "output_type": "display_data"
    },
    {
     "data": {
      "text/html": [
       "<style>\n",
       ".list-inline {list-style: none; margin:0; padding: 0}\n",
       ".list-inline>li {display: inline-block}\n",
       ".list-inline>li:not(:last-child)::after {content: \"\\00b7\"; padding: 0 .5ex}\n",
       "</style>\n",
       "<ol class=list-inline><li>412698</li><li>15</li></ol>\n"
      ],
      "text/latex": [
       "\\begin{enumerate*}\n",
       "\\item 412698\n",
       "\\item 15\n",
       "\\end{enumerate*}\n"
      ],
      "text/markdown": [
       "1. 412698\n",
       "2. 15\n",
       "\n",
       "\n"
      ],
      "text/plain": [
       "[1] 412698     15"
      ]
     },
     "metadata": {},
     "output_type": "display_data"
    },
    {
     "data": {
      "text/html": [
       "<style>\n",
       ".list-inline {list-style: none; margin:0; padding: 0}\n",
       ".list-inline>li {display: inline-block}\n",
       ".list-inline>li:not(:last-child)::after {content: \"\\00b7\"; padding: 0 .5ex}\n",
       "</style>\n",
       "<ol class=list-inline><li>'SalePrice'</li><li>'datasource'</li><li>'YearMade'</li><li>'ProductSize'</li><li>'ProductGroup'</li><li>'ProductGroupDesc'</li><li>'Drive_System'</li><li>'Enclosure'</li><li>'Forks'</li><li>'Ride_Control'</li><li>'Transmission'</li><li>'Hydraulics'</li><li>'Ripper'</li><li>'Coupler'</li><li>'saleYear'</li></ol>\n"
      ],
      "text/latex": [
       "\\begin{enumerate*}\n",
       "\\item 'SalePrice'\n",
       "\\item 'datasource'\n",
       "\\item 'YearMade'\n",
       "\\item 'ProductSize'\n",
       "\\item 'ProductGroup'\n",
       "\\item 'ProductGroupDesc'\n",
       "\\item 'Drive\\_System'\n",
       "\\item 'Enclosure'\n",
       "\\item 'Forks'\n",
       "\\item 'Ride\\_Control'\n",
       "\\item 'Transmission'\n",
       "\\item 'Hydraulics'\n",
       "\\item 'Ripper'\n",
       "\\item 'Coupler'\n",
       "\\item 'saleYear'\n",
       "\\end{enumerate*}\n"
      ],
      "text/markdown": [
       "1. 'SalePrice'\n",
       "2. 'datasource'\n",
       "3. 'YearMade'\n",
       "4. 'ProductSize'\n",
       "5. 'ProductGroup'\n",
       "6. 'ProductGroupDesc'\n",
       "7. 'Drive_System'\n",
       "8. 'Enclosure'\n",
       "9. 'Forks'\n",
       "10. 'Ride_Control'\n",
       "11. 'Transmission'\n",
       "12. 'Hydraulics'\n",
       "13. 'Ripper'\n",
       "14. 'Coupler'\n",
       "15. 'saleYear'\n",
       "\n",
       "\n"
      ],
      "text/plain": [
       " [1] \"SalePrice\"        \"datasource\"       \"YearMade\"         \"ProductSize\"     \n",
       " [5] \"ProductGroup\"     \"ProductGroupDesc\" \"Drive_System\"     \"Enclosure\"       \n",
       " [9] \"Forks\"            \"Ride_Control\"     \"Transmission\"     \"Hydraulics\"      \n",
       "[13] \"Ripper\"           \"Coupler\"          \"saleYear\"        "
      ]
     },
     "metadata": {},
     "output_type": "display_data"
    }
   ],
   "source": [
    "# Final check for NAs\n",
    "enframe(colSums(is.na(data)) / nrow(data))\n",
    "\n",
    "# Final check for data dimension\n",
    "dim(data)\n",
    "\n",
    "# Final variables\n",
    "names(data)"
   ]
  },
  {
   "cell_type": "code",
   "execution_count": 12,
   "metadata": {
    "execution": {
     "iopub.execute_input": "2021-01-11T10:42:11.268101Z",
     "iopub.status.busy": "2021-01-11T10:42:11.266631Z",
     "iopub.status.idle": "2021-01-11T10:42:11.331203Z",
     "shell.execute_reply": "2021-01-11T10:42:11.329845Z"
    },
    "papermill": {
     "duration": 0.09465,
     "end_time": "2021-01-11T10:42:11.331342",
     "exception": false,
     "start_time": "2021-01-11T10:42:11.236692",
     "status": "completed"
    },
    "tags": []
   },
   "outputs": [
    {
     "data": {
      "text/html": [
       "<style>\n",
       ".list-inline {list-style: none; margin:0; padding: 0}\n",
       ".list-inline>li {display: inline-block}\n",
       ".list-inline>li:not(:last-child)::after {content: \"\\00b7\"; padding: 0 .5ex}\n",
       "</style>\n",
       "<ol class=list-inline><li>309903</li><li>15</li></ol>\n"
      ],
      "text/latex": [
       "\\begin{enumerate*}\n",
       "\\item 309903\n",
       "\\item 15\n",
       "\\end{enumerate*}\n"
      ],
      "text/markdown": [
       "1. 309903\n",
       "2. 15\n",
       "\n",
       "\n"
      ],
      "text/plain": [
       "[1] 309903     15"
      ]
     },
     "metadata": {},
     "output_type": "display_data"
    },
    {
     "data": {
      "text/html": [
       "<style>\n",
       ".list-inline {list-style: none; margin:0; padding: 0}\n",
       ".list-inline>li {display: inline-block}\n",
       ".list-inline>li:not(:last-child)::after {content: \"\\00b7\"; padding: 0 .5ex}\n",
       "</style>\n",
       "<ol class=list-inline><li>102795</li><li>15</li></ol>\n"
      ],
      "text/latex": [
       "\\begin{enumerate*}\n",
       "\\item 102795\n",
       "\\item 15\n",
       "\\end{enumerate*}\n"
      ],
      "text/markdown": [
       "1. 102795\n",
       "2. 15\n",
       "\n",
       "\n"
      ],
      "text/plain": [
       "[1] 102795     15"
      ]
     },
     "metadata": {},
     "output_type": "display_data"
    }
   ],
   "source": [
    "# prepare train and valid data\n",
    "div <- rbinom(nrow(data), 1, 0.25)\n",
    "train <- data[div == 0, ]\n",
    "valid <- data[div == 1, ]\n",
    "dim(train)\n",
    "dim(valid)"
   ]
  },
  {
   "cell_type": "markdown",
   "metadata": {
    "papermill": {
     "duration": 0.027676,
     "end_time": "2021-01-11T10:42:11.386717",
     "exception": false,
     "start_time": "2021-01-11T10:42:11.359041",
     "status": "completed"
    },
    "tags": []
   },
   "source": [
    "# Random forest model"
   ]
  },
  {
   "cell_type": "code",
   "execution_count": 13,
   "metadata": {
    "execution": {
     "iopub.execute_input": "2021-01-11T10:42:11.446613Z",
     "iopub.status.busy": "2021-01-11T10:42:11.445031Z",
     "iopub.status.idle": "2021-01-11T10:50:51.953078Z",
     "shell.execute_reply": "2021-01-11T10:50:51.951888Z"
    },
    "papermill": {
     "duration": 520.538687,
     "end_time": "2021-01-11T10:50:51.953257",
     "exception": false,
     "start_time": "2021-01-11T10:42:11.414570",
     "status": "completed"
    },
    "tags": []
   },
   "outputs": [],
   "source": [
    "#rf_classifier = randomForest(SalePrice ~ ., data = train, na.action = na.omit)\n",
    "model <- randomForest(SalePrice ~ ., data = train, na.action = na.omit, ntree = 50, mtry = 4)"
   ]
  },
  {
   "cell_type": "code",
   "execution_count": 14,
   "metadata": {
    "execution": {
     "iopub.execute_input": "2021-01-11T10:50:52.044215Z",
     "iopub.status.busy": "2021-01-11T10:50:52.042736Z",
     "iopub.status.idle": "2021-01-11T10:50:53.956310Z",
     "shell.execute_reply": "2021-01-11T10:50:53.954808Z"
    },
    "papermill": {
     "duration": 1.949584,
     "end_time": "2021-01-11T10:50:53.956524",
     "exception": false,
     "start_time": "2021-01-11T10:50:52.006940",
     "status": "completed"
    },
    "tags": []
   },
   "outputs": [
    {
     "data": {
      "text/plain": [
       "\n",
       "Call:\n",
       " randomForest(formula = SalePrice ~ ., data = train, ntree = 50,      mtry = 4, na.action = na.omit) \n",
       "               Type of random forest: regression\n",
       "                     Number of trees: 50\n",
       "No. of variables tried at each split: 4\n",
       "\n",
       "          Mean of squared residuals: 157798350\n",
       "                    % Var explained: 70.51"
      ]
     },
     "metadata": {},
     "output_type": "display_data"
    }
   ],
   "source": [
    "model\n",
    "# Var explained: 70.5%, mean of sq. residuals: 1581322253\n",
    "saveRDS(model, \"./RFmodel.rds\")"
   ]
  },
  {
   "cell_type": "code",
   "execution_count": 15,
   "metadata": {
    "execution": {
     "iopub.execute_input": "2021-01-11T10:50:54.019758Z",
     "iopub.status.busy": "2021-01-11T10:50:54.018205Z",
     "iopub.status.idle": "2021-01-11T10:50:55.269408Z",
     "shell.execute_reply": "2021-01-11T10:50:55.268942Z"
    },
    "papermill": {
     "duration": 1.283825,
     "end_time": "2021-01-11T10:50:55.269578",
     "exception": false,
     "start_time": "2021-01-11T10:50:53.985753",
     "status": "completed"
    },
    "tags": []
   },
   "outputs": [
    {
     "data": {
      "text/html": [
       "<table class=\"dataframe\">\n",
       "<caption>A matrix: 6 × 2 of type dbl</caption>\n",
       "<thead>\n",
       "\t<tr><th></th><th scope=col></th><th scope=col>.</th></tr>\n",
       "</thead>\n",
       "<tbody>\n",
       "\t<tr><th scope=row>1</th><td>10000</td><td>12545.33</td></tr>\n",
       "\t<tr><th scope=row>2</th><td>13500</td><td>13936.14</td></tr>\n",
       "\t<tr><th scope=row>3</th><td> 9500</td><td>13905.63</td></tr>\n",
       "\t<tr><th scope=row>4</th><td>34500</td><td>32586.63</td></tr>\n",
       "\t<tr><th scope=row>5</th><td>33000</td><td>28959.32</td></tr>\n",
       "\t<tr><th scope=row>6</th><td>15500</td><td>17934.73</td></tr>\n",
       "</tbody>\n",
       "</table>\n"
      ],
      "text/latex": [
       "A matrix: 6 × 2 of type dbl\n",
       "\\begin{tabular}{r|ll}\n",
       "  &  & .\\\\\n",
       "\\hline\n",
       "\t1 & 10000 & 12545.33\\\\\n",
       "\t2 & 13500 & 13936.14\\\\\n",
       "\t3 &  9500 & 13905.63\\\\\n",
       "\t4 & 34500 & 32586.63\\\\\n",
       "\t5 & 33000 & 28959.32\\\\\n",
       "\t6 & 15500 & 17934.73\\\\\n",
       "\\end{tabular}\n"
      ],
      "text/markdown": [
       "\n",
       "A matrix: 6 × 2 of type dbl\n",
       "\n",
       "| <!--/--> | <!----> | . |\n",
       "|---|---|---|\n",
       "| 1 | 10000 | 12545.33 |\n",
       "| 2 | 13500 | 13936.14 |\n",
       "| 3 |  9500 | 13905.63 |\n",
       "| 4 | 34500 | 32586.63 |\n",
       "| 5 | 33000 | 28959.32 |\n",
       "| 6 | 15500 | 17934.73 |\n",
       "\n"
      ],
      "text/plain": [
       "        .       \n",
       "1 10000 12545.33\n",
       "2 13500 13936.14\n",
       "3  9500 13905.63\n",
       "4 34500 32586.63\n",
       "5 33000 28959.32\n",
       "6 15500 17934.73"
      ]
     },
     "metadata": {},
     "output_type": "display_data"
    }
   ],
   "source": [
    "# prediction\n",
    "pred <- predict(model, valid, type = \"class\") %>% cbind(valid$SalePrice, .)\n",
    "head(pred)\n",
    "write.table(pred, \"./predictions.csv\", sep = \";\")\n"
   ]
  }
 ],
 "metadata": {
  "kernelspec": {
   "display_name": "R",
   "language": "R",
   "name": "ir"
  },
  "language_info": {
   "codemirror_mode": "r",
   "file_extension": ".r",
   "mimetype": "text/x-r-source",
   "name": "R",
   "pygments_lexer": "r",
   "version": "3.6.3"
  },
  "papermill": {
   "default_parameters": {},
   "duration": 540.688666,
   "end_time": "2021-01-11T10:50:56.424686",
   "environment_variables": {},
   "exception": null,
   "input_path": "__notebook__.ipynb",
   "output_path": "__notebook__.ipynb",
   "parameters": {},
   "start_time": "2021-01-11T10:41:55.736020",
   "version": "2.2.2"
  }
 },
 "nbformat": 4,
 "nbformat_minor": 4
}
